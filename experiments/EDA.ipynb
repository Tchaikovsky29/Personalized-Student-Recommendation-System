{
 "cells": [
  {
   "cell_type": "code",
   "execution_count": 1,
   "metadata": {},
   "outputs": [],
   "source": [
    "import pandas as pd\n",
    "import json"
   ]
  },
  {
   "cell_type": "code",
   "execution_count": 2,
   "metadata": {},
   "outputs": [],
   "source": [
    "questions = pd.read_json(\"../data/raw/quiz_data.json\")['quiz']\n",
    "data = json.load(open(\"../data/raw/quiz_submission_data.json\"))\n",
    "nested_data = {\"data\":data}\n",
    "response = pd.DataFrame(nested_data)[\"data\"]"
   ]
  },
  {
   "cell_type": "code",
   "execution_count": 3,
   "metadata": {},
   "outputs": [
    {
     "data": {
      "text/plain": [
       "Index(['id', 'name', 'title', 'description', 'difficulty_level', 'topic',\n",
       "       'time', 'is_published', 'created_at', 'updated_at', 'duration',\n",
       "       'end_time', 'negative_marks', 'correct_answer_marks', 'shuffle',\n",
       "       'show_answers', 'lock_solutions', 'is_form', 'show_mastery_option',\n",
       "       'quiz_type', 'is_custom', 'banner_id', 'exam_id', 'show_unanswered',\n",
       "       'ends_at', 'lives', 'live_count', 'coin_count', 'questions_count',\n",
       "       'daily_date', 'max_mistake_count', 'questions'],\n",
       "      dtype='object')"
      ]
     },
     "execution_count": 3,
     "metadata": {},
     "output_type": "execute_result"
    }
   ],
   "source": [
    "questions.keys()"
   ]
  },
  {
   "cell_type": "code",
   "execution_count": 4,
   "metadata": {},
   "outputs": [
    {
     "data": {
      "text/plain": [
       "Index(['id', 'quiz_id', 'user_id', 'submitted_at', 'created_at', 'updated_at',\n",
       "       'score', 'trophy_level', 'accuracy', 'speed', 'final_score',\n",
       "       'negative_score', 'correct_answers', 'incorrect_answers', 'source',\n",
       "       'type', 'started_at', 'ended_at', 'duration', 'better_than',\n",
       "       'total_questions', 'rank_text', 'mistakes_corrected',\n",
       "       'initial_mistake_count', 'response_map', 'quiz', 'next_steps'],\n",
       "      dtype='object')"
      ]
     },
     "execution_count": 4,
     "metadata": {},
     "output_type": "execute_result"
    }
   ],
   "source": [
    "response.keys()"
   ]
  },
  {
   "cell_type": "code",
   "execution_count": 5,
   "metadata": {},
   "outputs": [],
   "source": [
    "quiz = questions[[\"title\", \"topic\", \"negative_marks\", \"correct_answer_marks\", \"questions_count\", \"max_mistake_count\"]]\n",
    "questions = questions[\"questions\"]\n",
    "user = response[[\"score\", \"accuracy\", \"final_score\", \"negative_score\", \"correct_answers\", \"incorrect_answers\", \"total_questions\", \"quiz\"]]\n",
    "response = response[\"response_map\"]"
   ]
  },
  {
   "cell_type": "code",
   "execution_count": 6,
   "metadata": {},
   "outputs": [],
   "source": [
    "strengths = []\n",
    "weaknesses = []\n",
    "at = 0\n",
    "for item in response.items():\n",
    "    for i in range(at, len(questions) - 1):\n",
    "        if str(questions[i][\"id\"]) == item[0]:\n",
    "            for j in questions[i][\"options\"]:\n",
    "                if j[\"id\"] == item[1]:\n",
    "                    log_entry = {\n",
    "                        \"question\": questions[i][\"description\"],  # Log the question\n",
    "                        \"explanation\": questions[i][\"detailed_solution\"] # Log explanation\n",
    "                    }\n",
    "                    if j[\"is_correct\"] == True:\n",
    "                        strengths.append(log_entry)\n",
    "                        at = i\n",
    "                        continue\n",
    "                    else:\n",
    "                        weaknesses.append(log_entry)\n",
    "                        at = i\n",
    "                        continue"
   ]
  },
  {
   "cell_type": "code",
   "execution_count": 8,
   "metadata": {},
   "outputs": [
    {
     "data": {
      "text/plain": [
       "'[\\n  {\\n    \"strengths\": {\\n      \"description\": \"Detailed understanding of cell junctions, connective tissue types, and the frog\\'s heart structure and function\",\\n      \"topics\": [\\n        \"cell junctions\",\\n        \"connective tissue types (areolar tissue, cartilage, hyaline cartilage, elastic cartilage, fibrocartilage)\",\\n        \"frog\\'s heart structure and function\"\\n      ]\\n    }\\n  },\\n  {\\n    \"weaknesses\": {\\n      \"description\": \"Lack of understanding of the release of endocrine glands\\' secretions and the location of vasa efferentia in the male frog\\'s kidney\",\\n      \"topics\": [\\n        \"endocrine glands\\' secretions\",\\n        \"male frog\\'s anatomy (vasa efferentia, kidney)\"\\n      ]\\n    }\\n  }\\n]'"
      ]
     },
     "execution_count": 8,
     "metadata": {},
     "output_type": "execute_result"
    }
   ],
   "source": [
    "from prompt import prompt, llm\n",
    "\n",
    "prompt = prompt.format(strengths = strengths, weaknesses = weaknesses)\n",
    "result = llm.invoke(prompt).content\n",
    "result"
   ]
  },
  {
   "cell_type": "code",
   "execution_count": 9,
   "metadata": {},
   "outputs": [],
   "source": [
    "import json\n",
    "\n",
    "data = json.loads(result)\n",
    "\n",
    "strengths = data[0]\n",
    "weaknesses = data[1]"
   ]
  },
  {
   "cell_type": "code",
   "execution_count": 10,
   "metadata": {},
   "outputs": [
    {
     "data": {
      "text/plain": [
       "{'strengths': {'description': \"Detailed understanding of cell junctions, connective tissue types, and the frog's heart structure and function\",\n",
       "  'topics': ['cell junctions',\n",
       "   'connective tissue types (areolar tissue, cartilage, hyaline cartilage, elastic cartilage, fibrocartilage)',\n",
       "   \"frog's heart structure and function\"]}}"
      ]
     },
     "execution_count": 10,
     "metadata": {},
     "output_type": "execute_result"
    }
   ],
   "source": [
    "strengths"
   ]
  },
  {
   "cell_type": "code",
   "execution_count": 11,
   "metadata": {},
   "outputs": [
    {
     "data": {
      "image/png": "[encoded data removed]",
      "text/plain": [
       "<Figure size 640x480 with 1 Axes>"
      ]
     },
     "metadata": {},
     "output_type": "display_data"
    }
   ],
   "source": [
    "import matplotlib.pyplot as plt\n",
    "\n",
    "names = ['Total', 'Attempted', 'Correct', 'Wrong']\n",
    "values = [user[\"total_questions\"], user[\"correct_answers\"]+user[\"incorrect_answers\"], user[\"correct_answers\"], user[\"incorrect_answers\"]]\n",
    "\n",
    "plt.bar(names, values)\n",
    "plt.title('Questions Analysis')\n",
    "plt.xlabel('Questions')\n",
    "plt.ylabel('Values')\n",
    "plt.show()"
   ]
  },
  {
   "cell_type": "code",
   "execution_count": 12,
   "metadata": {},
   "outputs": [
    {
     "data": {
      "image/png": "[encoded data removed]",
      "text/plain": [
       "<Figure size 640x480 with 1 Axes>"
      ]
     },
     "metadata": {},
     "output_type": "display_data"
    }
   ],
   "source": [
    "import matplotlib.pyplot as plt\n",
    "\n",
    "names = ['Total', 'Achieved', 'Awarded', 'Decucted']\n",
    "values = [user[\"total_questions\"]*int(float(user[\"quiz\"][\"correct_answer_marks\"])), int(float(user[\"final_score\"])), user[\"score\"], int(float(user[\"negative_score\"]))]\n",
    "\n",
    "plt.bar(names, values)\n",
    "plt.title('Score Analysis')\n",
    "plt.xlabel('Score')\n",
    "plt.ylabel('Values')\n",
    "plt.show()"
   ]
  }
 ],
 "metadata": {
  "kernelspec": {
   "display_name": "TestLine",
   "language": "python",
   "name": "python3"
  },
  "language_info": {
   "codemirror_mode": {
    "name": "ipython",
    "version": 3
   },
   "file_extension": ".py",
   "mimetype": "text/x-python",
   "name": "python",
   "nbconvert_exporter": "python",
   "pygments_lexer": "ipython3",
   "version": "3.10.10"
  }
 },
 "nbformat": 4,
 "nbformat_minor": 2
}
